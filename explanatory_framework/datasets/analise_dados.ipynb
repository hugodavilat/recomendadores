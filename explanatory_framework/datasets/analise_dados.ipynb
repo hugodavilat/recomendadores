{
 "cells": [
  {
   "cell_type": "code",
   "execution_count": 2,
   "id": "1ba4c0c6",
   "metadata": {},
   "outputs": [
    {
     "data": {
      "text/plain": [
       "[<matplotlib.lines.Line2D at 0x11161b130>]"
      ]
     },
     "execution_count": 2,
     "metadata": {},
     "output_type": "execute_result"
    },
    {
     "data": {
      "image/png": "[encoded data removed]",
      "text/plain": [
       "<Figure size 432x288 with 1 Axes>"
      ]
     },
     "metadata": {
      "needs_background": "light"
     },
     "output_type": "display_data"
    }
   ],
   "source": [
    "from collections import defaultdict\n",
    "import matplotlib.pyplot as plt\n",
    "\n",
    "import pandas as pd\n",
    "\n",
    "DS = \"ml-1m\"\n",
    "\n",
    "df = pd.read_csv(\n",
    "    f\"../../data/{DS}/ratings.dat\",\n",
    "    engine='python',\n",
    "    sep=\"::\",\n",
    "    names=[\"uid\", \"iid\", \"rating\", \"ts\"],\n",
    "    header = None)\n",
    "\n",
    "# u_id -> (min_ts, max_ts)\n",
    "min_max_ts = defaultdict(lambda: (float('inf'), -1))\n",
    "\n",
    "\n",
    "df = df.reset_index()\n",
    "for _, row in df.iterrows():\n",
    "    uid, ts = row['uid'], int(row['ts'])\n",
    "    uid_min = min(min_max_ts[uid][0], ts)\n",
    "    uid_max = max(min_max_ts[uid][1], ts)\n",
    "    min_max_ts[uid] = (uid_min, uid_max)\n",
    "\n",
    "counter = [(x[0], 1) for x in min_max_ts.values()] \n",
    "counter += [(x[1], -1) for x in min_max_ts.values()]\n",
    "counter.sort()\n",
    "\n",
    "cnt = 0\n",
    "x = []\n",
    "y = []\n",
    "for (ts, i) in counter:\n",
    "    cnt += i\n",
    "    x.append(ts)\n",
    "    y.append(cnt/6040)\n",
    "\n",
    "plt.plot(x, y)\n",
    "    "
   ]
  },
  {
   "cell_type": "code",
   "execution_count": 3,
   "id": "7dc0df42",
   "metadata": {},
   "outputs": [],
   "source": [
    "## Como visto, distribuição bem desigual no tempo."
   ]
  },
  {
   "cell_type": "code",
   "execution_count": 41,
   "id": "ac1d86f7",
   "metadata": {},
   "outputs": [],
   "source": [
    "## Transforma csv em urm (sparse matrix)\n",
    "\n",
    "import pickle\n",
    "from scipy.sparse import csr_matrix\n",
    "\n",
    "# DS = \"ml-100k\"\n",
    "# U = 943\n",
    "# I = 1682\n",
    "\n",
    "# DS = \"ml-1m\"\n",
    "# U = 6040\n",
    "# I = 3952\n",
    "\n",
    "DS = \"ml-10m\"\n",
    "U = 71567\n",
    "I = 65126\n",
    "\n",
    "df = pd.read_csv(\n",
    "    f\"TS-split/{DS}/train.csv\",\n",
    "    engine='python',\n",
    "    sep=\", \")\n",
    "\n",
    "array = df.to_records(index=False)\n",
    "\n",
    "# print(f\"max_rating: {max(array['rating'])}, min_rating:{min(array['rating'])}\")\n",
    "# print(f\"max_uid: {max(array['uid'])}, min_uid:{min(array['uid'])}\")\n",
    "# print(f\"max_iid: {max(array['iid'])}, min_iid:{min(array['iid'])}\")\n",
    "# print(f\"num_iid: {len(set(array['iid']))}\")\n",
    "\n",
    "urm = csr_matrix((array['rating'].astype(int),\n",
    "                  (array['uid'].astype(int), array['iid'].astype(int))),\n",
    "                 shape=(U+1, I+1))\n",
    "\n",
    "pickle.dump(urm, open(f\"TS-split/{DS}/train_urm.pk\", \"wb\" ), pickle.HIGHEST_PROTOCOL)"
   ]
  },
  {
   "cell_type": "code",
   "execution_count": null,
   "id": "3927cc8c",
   "metadata": {},
   "outputs": [],
   "source": []
  }
 ],
 "metadata": {
  "kernelspec": {
   "display_name": "Python 3 (ipykernel)",
   "language": "python",
   "name": "python3"
  },
  "language_info": {
   "codemirror_mode": {
    "name": "ipython",
    "version": 3
   },
   "file_extension": ".py",
   "mimetype": "text/x-python",
   "name": "python",
   "nbconvert_exporter": "python",
   "pygments_lexer": "ipython3",
   "version": "3.8.9"
  }
 },
 "nbformat": 4,
 "nbformat_minor": 5
}
